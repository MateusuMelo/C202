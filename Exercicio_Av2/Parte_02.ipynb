{
 "cells": [
  {
   "cell_type": "code",
   "execution_count": null,
   "metadata": {},
   "outputs": [],
   "source": [
    "%pip install neo4j"
   ]
  },
  {
   "cell_type": "code",
   "execution_count": null,
   "metadata": {},
   "outputs": [],
   "source": [
    "from neo4j import GraphDatabase\n",
    "try:\n",
    "    driver = GraphDatabase.driver(uri='neo4j+s://f08621b4.databases.neo4j.io:7687', auth=('neo4j', 'UtRsFSYanL1-Mvj1uZ4War-uiW-oicu-y8LizZoLbpA'))\n",
    "    driver.verify_connectivity()\n",
    "except Exception as e:\n",
    "    print(e)"
   ]
  },
  {
   "cell_type": "code",
   "execution_count": null,
   "metadata": {},
   "outputs": [],
   "source": [
    "#Quem da família é Engenheiro?\n",
    "query = 'MATCH (a:Engenheira) RETURN a.name'\n",
    "with driver.session(database = 'neo4j') as session:\n",
    "    session.execute_read(query)"
   ]
  },
  {
   "cell_type": "code",
   "execution_count": null,
   "metadata": {},
   "outputs": [],
   "source": [
    "#Fulano de tal é pai de quem?\n",
    "query = 'MATCH (p)-[:Pai_de]->(a) RETURN p.Nome, a.Nome'\n",
    "with driver.session(database = 'neo4j') as session:\n",
    "    session.execute_read(query)"
   ]
  },
  {
   "cell_type": "code",
   "execution_count": null,
   "metadata": {},
   "outputs": [],
   "source": [
    "#Sicrana de tal namora com quem desde quando?\n",
    "\n",
    "query = 'MATCH (p)-[n:Namorado_de]->(a) RETURN p.Nome, a.Nome,n.`Duração`'\n",
    "with driver.session(database = 'neo4j') as session:\n",
    "    session.execute_read(query)"
   ]
  }
 ],
 "metadata": {
  "kernelspec": {
   "display_name": "Python 3",
   "language": "python",
   "name": "python3"
  },
  "language_info": {
   "codemirror_mode": {
    "name": "ipython",
    "version": 3
   },
   "file_extension": ".py",
   "mimetype": "text/x-python",
   "name": "python",
   "nbconvert_exporter": "python",
   "pygments_lexer": "ipython3",
   "version": "3.9.0"
  },
  "orig_nbformat": 4
 },
 "nbformat": 4,
 "nbformat_minor": 2
}
