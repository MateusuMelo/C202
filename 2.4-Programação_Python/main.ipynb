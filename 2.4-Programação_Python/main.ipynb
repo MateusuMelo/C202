{
 "cells": [
  {
   "cell_type": "code",
   "execution_count": 20,
   "id": "0f05bb40-5151-4538-a30e-e4d06ef81977",
   "metadata": {},
   "outputs": [],
   "source": [
    "from pymongo import MongoClient\n",
    "import pprint\n",
    "\n"
   ]
  },
  {
   "cell_type": "code",
   "execution_count": 30,
   "id": "19518d14",
   "metadata": {},
   "outputs": [],
   "source": [
    "client = MongoClient('mongodb://localhost:27017')"
   ]
  },
  {
   "cell_type": "code",
   "execution_count": 31,
   "id": "02a52475",
   "metadata": {},
   "outputs": [],
   "source": [
    "db = client['BdWorld']\n",
    "countries = db.countries\n"
   ]
  },
  {
   "cell_type": "code",
   "execution_count": 38,
   "id": "13db96d3",
   "metadata": {},
   "outputs": [],
   "source": [
    "#query\n",
    "countries_find = countries.find()\n",
    "\n",
    "for result in countries_find:\n",
    "    pprint.pprint(result)\n"
   ]
  }
 ],
 "metadata": {
  "kernelspec": {
   "display_name": "Python 3 (ipykernel)",
   "language": "python",
   "name": "python3"
  },
  "language_info": {
   "codemirror_mode": {
    "name": "ipython",
    "version": 3
   },
   "file_extension": ".py",
   "mimetype": "text/x-python",
   "name": "python",
   "nbconvert_exporter": "python",
   "pygments_lexer": "ipython3",
   "version": "3.9.0"
  }
 },
 "nbformat": 4,
 "nbformat_minor": 5
}
